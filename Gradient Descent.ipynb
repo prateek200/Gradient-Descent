{
 "cells": [
  {
   "cell_type": "code",
   "execution_count": 67,
   "metadata": {},
   "outputs": [],
   "source": [
    "# modules required in this notebook \n",
    "\n",
    "import pandas as pd\n",
    "import numpy as np\n",
    "from sklearn.preprocessing import StandardScaler \n",
    "from sklearn.model_selection import train_test_split"
   ]
  },
  {
   "cell_type": "code",
   "execution_count": 68,
   "metadata": {},
   "outputs": [],
   "source": [
    "# loading data with the help of pandas module\n",
    "\n",
    "data=pd.read_csv(r\"D:\\combined cycle power plant\\Combine Cycle Power Plant.csv\")"
   ]
  },
  {
   "cell_type": "code",
   "execution_count": 69,
   "metadata": {},
   "outputs": [
    {
     "data": {
      "text/html": [
       "<div>\n",
       "<style scoped>\n",
       "    .dataframe tbody tr th:only-of-type {\n",
       "        vertical-align: middle;\n",
       "    }\n",
       "\n",
       "    .dataframe tbody tr th {\n",
       "        vertical-align: top;\n",
       "    }\n",
       "\n",
       "    .dataframe thead th {\n",
       "        text-align: right;\n",
       "    }\n",
       "</style>\n",
       "<table border=\"1\" class=\"dataframe\">\n",
       "  <thead>\n",
       "    <tr style=\"text-align: right;\">\n",
       "      <th></th>\n",
       "      <th># T</th>\n",
       "      <th>V</th>\n",
       "      <th>AP</th>\n",
       "      <th>RH</th>\n",
       "      <th>EP</th>\n",
       "    </tr>\n",
       "  </thead>\n",
       "  <tbody>\n",
       "    <tr>\n",
       "      <th>0</th>\n",
       "      <td>8.58</td>\n",
       "      <td>38.38</td>\n",
       "      <td>1021.03</td>\n",
       "      <td>84.37</td>\n",
       "      <td>482.26</td>\n",
       "    </tr>\n",
       "    <tr>\n",
       "      <th>1</th>\n",
       "      <td>21.79</td>\n",
       "      <td>58.20</td>\n",
       "      <td>1017.21</td>\n",
       "      <td>66.74</td>\n",
       "      <td>446.94</td>\n",
       "    </tr>\n",
       "    <tr>\n",
       "      <th>2</th>\n",
       "      <td>16.64</td>\n",
       "      <td>48.92</td>\n",
       "      <td>1011.55</td>\n",
       "      <td>78.76</td>\n",
       "      <td>452.56</td>\n",
       "    </tr>\n",
       "    <tr>\n",
       "      <th>3</th>\n",
       "      <td>31.38</td>\n",
       "      <td>71.32</td>\n",
       "      <td>1009.17</td>\n",
       "      <td>60.42</td>\n",
       "      <td>433.44</td>\n",
       "    </tr>\n",
       "    <tr>\n",
       "      <th>4</th>\n",
       "      <td>9.20</td>\n",
       "      <td>40.03</td>\n",
       "      <td>1017.05</td>\n",
       "      <td>92.46</td>\n",
       "      <td>480.38</td>\n",
       "    </tr>\n",
       "  </tbody>\n",
       "</table>\n",
       "</div>"
      ],
      "text/plain": [
       "     # T      V       AP     RH      EP\n",
       "0   8.58  38.38  1021.03  84.37  482.26\n",
       "1  21.79  58.20  1017.21  66.74  446.94\n",
       "2  16.64  48.92  1011.55  78.76  452.56\n",
       "3  31.38  71.32  1009.17  60.42  433.44\n",
       "4   9.20  40.03  1017.05  92.46  480.38"
      ]
     },
     "execution_count": 69,
     "metadata": {},
     "output_type": "execute_result"
    }
   ],
   "source": [
    "# loading the first 5 rows of data \n",
    "# you can read about all the features in readme.txt\n",
    "\n",
    "data.head()"
   ]
  },
  {
   "cell_type": "code",
   "execution_count": 70,
   "metadata": {},
   "outputs": [
    {
     "data": {
      "text/html": [
       "<div>\n",
       "<style scoped>\n",
       "    .dataframe tbody tr th:only-of-type {\n",
       "        vertical-align: middle;\n",
       "    }\n",
       "\n",
       "    .dataframe tbody tr th {\n",
       "        vertical-align: top;\n",
       "    }\n",
       "\n",
       "    .dataframe thead th {\n",
       "        text-align: right;\n",
       "    }\n",
       "</style>\n",
       "<table border=\"1\" class=\"dataframe\">\n",
       "  <thead>\n",
       "    <tr style=\"text-align: right;\">\n",
       "      <th></th>\n",
       "      <th># T</th>\n",
       "      <th>V</th>\n",
       "      <th>AP</th>\n",
       "      <th>RH</th>\n",
       "      <th>EP</th>\n",
       "    </tr>\n",
       "  </thead>\n",
       "  <tbody>\n",
       "    <tr>\n",
       "      <th>count</th>\n",
       "      <td>7176.000000</td>\n",
       "      <td>7176.000000</td>\n",
       "      <td>7176.000000</td>\n",
       "      <td>7176.000000</td>\n",
       "      <td>7176.000000</td>\n",
       "    </tr>\n",
       "    <tr>\n",
       "      <th>mean</th>\n",
       "      <td>19.629712</td>\n",
       "      <td>54.288154</td>\n",
       "      <td>1013.263032</td>\n",
       "      <td>73.275818</td>\n",
       "      <td>454.431293</td>\n",
       "    </tr>\n",
       "    <tr>\n",
       "      <th>std</th>\n",
       "      <td>7.475256</td>\n",
       "      <td>12.751468</td>\n",
       "      <td>5.964863</td>\n",
       "      <td>14.625093</td>\n",
       "      <td>17.134571</td>\n",
       "    </tr>\n",
       "    <tr>\n",
       "      <th>min</th>\n",
       "      <td>1.810000</td>\n",
       "      <td>25.360000</td>\n",
       "      <td>992.890000</td>\n",
       "      <td>25.560000</td>\n",
       "      <td>420.260000</td>\n",
       "    </tr>\n",
       "    <tr>\n",
       "      <th>25%</th>\n",
       "      <td>13.470000</td>\n",
       "      <td>41.740000</td>\n",
       "      <td>1009.010000</td>\n",
       "      <td>63.202500</td>\n",
       "      <td>439.737500</td>\n",
       "    </tr>\n",
       "    <tr>\n",
       "      <th>50%</th>\n",
       "      <td>20.315000</td>\n",
       "      <td>52.050000</td>\n",
       "      <td>1012.910000</td>\n",
       "      <td>74.895000</td>\n",
       "      <td>451.740000</td>\n",
       "    </tr>\n",
       "    <tr>\n",
       "      <th>75%</th>\n",
       "      <td>25.720000</td>\n",
       "      <td>66.540000</td>\n",
       "      <td>1017.302500</td>\n",
       "      <td>84.925000</td>\n",
       "      <td>468.667500</td>\n",
       "    </tr>\n",
       "    <tr>\n",
       "      <th>max</th>\n",
       "      <td>35.770000</td>\n",
       "      <td>81.560000</td>\n",
       "      <td>1033.300000</td>\n",
       "      <td>100.160000</td>\n",
       "      <td>495.760000</td>\n",
       "    </tr>\n",
       "  </tbody>\n",
       "</table>\n",
       "</div>"
      ],
      "text/plain": [
       "               # T            V           AP           RH           EP\n",
       "count  7176.000000  7176.000000  7176.000000  7176.000000  7176.000000\n",
       "mean     19.629712    54.288154  1013.263032    73.275818   454.431293\n",
       "std       7.475256    12.751468     5.964863    14.625093    17.134571\n",
       "min       1.810000    25.360000   992.890000    25.560000   420.260000\n",
       "25%      13.470000    41.740000  1009.010000    63.202500   439.737500\n",
       "50%      20.315000    52.050000  1012.910000    74.895000   451.740000\n",
       "75%      25.720000    66.540000  1017.302500    84.925000   468.667500\n",
       "max      35.770000    81.560000  1033.300000   100.160000   495.760000"
      ]
     },
     "execution_count": 70,
     "metadata": {},
     "output_type": "execute_result"
    }
   ],
   "source": [
    "# describing the data , it gives basic information about the database\n",
    "\n",
    "data.describe()"
   ]
  },
  {
   "cell_type": "code",
   "execution_count": 71,
   "metadata": {},
   "outputs": [
    {
     "data": {
      "text/plain": [
       "# T    0\n",
       " V     0\n",
       " AP    0\n",
       " RH    0\n",
       " EP    0\n",
       "dtype: int64"
      ]
     },
     "execution_count": 71,
     "metadata": {},
     "output_type": "execute_result"
    }
   ],
   "source": [
    "# checking if there are any null values in the database\n",
    "# there are no null values in the database\n",
    "\n",
    "data.isnull().sum()"
   ]
  },
  {
   "cell_type": "code",
   "execution_count": 72,
   "metadata": {},
   "outputs": [
    {
     "name": "stdout",
     "output_type": "stream",
     "text": [
      "(7176, 4) (7176,)\n"
     ]
    }
   ],
   "source": [
    "# storing input and output feature\n",
    "\n",
    "X=data.drop(' EP',axis=1)\n",
    "Y=data[' EP']\n",
    "print(X.shape,Y.shape)"
   ]
  },
  {
   "cell_type": "code",
   "execution_count": 73,
   "metadata": {},
   "outputs": [],
   "source": [
    "# splitting the data into 2 -: train and test data\n",
    "# we will trian the algorithm using train data \n",
    "# and find the score of algorithm using test data\n",
    "\n",
    "X_train,X_test,Y_train,Y_test=train_test_split(X,Y)"
   ]
  },
  {
   "cell_type": "code",
   "execution_count": 74,
   "metadata": {},
   "outputs": [],
   "source": [
    "# scaling the X_trian and X_test using StandardScaler \n",
    "# it makes mean =0 and variance=1 and\n",
    "# all values lies between 0 -1 \n",
    "\n",
    "\n",
    "scaler = StandardScaler()\n",
    "\n",
    "scaler.fit(X_train)\n",
    "\n",
    "X_train_scaled=scaler.transform(X_train)\n",
    "X_test_scaled=scaler.transform(X_test)"
   ]
  },
  {
   "cell_type": "code",
   "execution_count": 75,
   "metadata": {},
   "outputs": [],
   "source": [
    "# predict function - it predict the output\n",
    "\n",
    "def  predict(X,m,c):\n",
    "    \n",
    "    return np.sum(m*X,axis=1)+c"
   ]
  },
  {
   "cell_type": "code",
   "execution_count": 76,
   "metadata": {},
   "outputs": [],
   "source": [
    "# step gradient code \n",
    "\n",
    "def step_gradient( X , Y , m , c , learning_rate ):\n",
    "    \n",
    "    n=X.shape[0]\n",
    "    diff_bw_true_pred=Y-predict(X,m,c)\n",
    "    \n",
    "    for i in range(len(m)):\n",
    "        \n",
    "        k=np.sum(diff_bw_true_pred*X[:,i])/n\n",
    "        m[i]=m[i] + (2*k*learning_rate)\n",
    "    \n",
    "    c=c+((2*learning_rate*np.sum(diff_bw_true_pred))/n)\n",
    "    \n",
    "    return m,c"
   ]
  },
  {
   "cell_type": "code",
   "execution_count": 77,
   "metadata": {},
   "outputs": [],
   "source": [
    "# fiting the gd using X_trian and Y_train\n",
    "\n",
    "def fit( X , Y , no_of_iterations , learning_rate ):\n",
    "    \n",
    "    m=np.zeros(X.shape[1])\n",
    "    c=0\n",
    "    \n",
    "    for i in range(no_of_iterations):\n",
    "        \n",
    "        m,c=step_gradient(X,Y,m,c,learning_rate)\n",
    "    \n",
    "    return m,c"
   ]
  },
  {
   "cell_type": "code",
   "execution_count": 78,
   "metadata": {},
   "outputs": [],
   "source": [
    "# cost func\n",
    "\n",
    "def cost(Y_true,Y_pred):\n",
    "    \n",
    "    n=Y_true.shape[0]\n",
    "    \n",
    "    square_of_diff_of_predictions=(Y_true-Y_pred)**2\n",
    "    \n",
    "    cost=(1/n)*np.sum(square_of_diff_of_predictions)\n",
    "    \n",
    "    return cost"
   ]
  },
  {
   "cell_type": "code",
   "execution_count": 79,
   "metadata": {},
   "outputs": [],
   "source": [
    "# score function it tells the efficiency of algorithm \n",
    "\n",
    "def score(Y_true,Y_pred):\n",
    "    \n",
    "    u=np.sum((Y_true-Y_pred)**2)\n",
    "    v=np.sum((Y_true-np.mean(Y_true))**2)\n",
    "    \n",
    "    score=1-(u/v)\n",
    "    \n",
    "    return score"
   ]
  },
  {
   "cell_type": "code",
   "execution_count": 80,
   "metadata": {},
   "outputs": [
    {
     "name": "stdout",
     "output_type": "stream",
     "text": [
      "Cost is = 20.841913099844128\n",
      "Score is = 0.9314241495894025\n"
     ]
    }
   ],
   "source": [
    "x_train=X_train.to_numpy()\n",
    "y_train=Y_train.to_numpy()\n",
    "\n",
    "m,c=fit(X_train_scaled , y_train ,100000 , 0.001)\n",
    "y_pred=predict(X_test_scaled,m,c)\n",
    "\n",
    "print( \"Cost is =\", cost( Y_test ,y_pred ) )\n",
    "print( \"Score is =\", score( Y_test ,y_pred ) )"
   ]
  },
  {
   "cell_type": "code",
   "execution_count": null,
   "metadata": {},
   "outputs": [],
   "source": []
  }
 ],
 "metadata": {
  "kernelspec": {
   "display_name": "Python 3",
   "language": "python",
   "name": "python3"
  },
  "language_info": {
   "codemirror_mode": {
    "name": "ipython",
    "version": 3
   },
   "file_extension": ".py",
   "mimetype": "text/x-python",
   "name": "python",
   "nbconvert_exporter": "python",
   "pygments_lexer": "ipython3",
   "version": "3.7.6"
  }
 },
 "nbformat": 4,
 "nbformat_minor": 4
}
